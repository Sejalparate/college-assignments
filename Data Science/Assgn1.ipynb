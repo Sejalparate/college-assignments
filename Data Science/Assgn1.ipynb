{
 "cells": [
  {
   "cell_type": "markdown",
   "metadata": {},
   "source": [
    "## For numerical data"
   ]
  },
  {
   "cell_type": "code",
   "execution_count": 1,
   "metadata": {},
   "outputs": [],
   "source": [
    "import numpy as np "
   ]
  },
  {
   "cell_type": "code",
   "execution_count": 2,
   "metadata": {},
   "outputs": [],
   "source": [
    "vector1 = [1,2,3,4,5]\n",
    "vector1 = np.array(vector1)\n",
    "vector2 = [6,7,8,9,10]\n",
    "vector2 = np.array(vector2)"
   ]
  },
  {
   "cell_type": "code",
   "execution_count": 3,
   "metadata": {},
   "outputs": [
    {
     "name": "stdout",
     "output_type": "stream",
     "text": [
      "Euclidian distance: 11.180339887498949\n"
     ]
    }
   ],
   "source": [
    "def euclidian_distance(v1, v2):\n",
    "    return np.sqrt(np.sum((v1 - v2) ** 2))\n",
    "print(\"Euclidian distance:\", euclidian_distance(vector1, vector2))"
   ]
  },
  {
   "cell_type": "code",
   "execution_count": 4,
   "metadata": {},
   "outputs": [
    {
     "name": "stdout",
     "output_type": "stream",
     "text": [
      "Manhattan distance: 25\n"
     ]
    }
   ],
   "source": [
    "def manhattan_dsitance(v1, v2):\n",
    "    return np.sum(np.abs(v1 - v2))\n",
    "print(\"Manhattan distance:\", manhattan_dsitance(vector1, vector2))"
   ]
  },
  {
   "cell_type": "code",
   "execution_count": 5,
   "metadata": {},
   "outputs": [
    {
     "name": "stdout",
     "output_type": "stream",
     "text": [
      "Minkowski distance: 11.180339887498949\n"
     ]
    }
   ],
   "source": [
    "# For p=2\n",
    "def minkowski_distance(v1, v2, p=2):\n",
    "    return sum(abs(a - b) ** p for a, b in zip(v1, v2)) ** (1/p)\n",
    "print(\"Minkowski distance:\", minkowski_distance(vector1, vector2))"
   ]
  },
  {
   "cell_type": "code",
   "execution_count": 6,
   "metadata": {},
   "outputs": [
    {
     "name": "stdout",
     "output_type": "stream",
     "text": [
      "Supremum distance: 5\n"
     ]
    }
   ],
   "source": [
    "def supremum_distance(v1, v2):\n",
    "    return np.max(np.abs(v1 - v2))\n",
    "print(\"Supremum distance:\", supremum_distance(vector1, vector2))"
   ]
  },
  {
   "cell_type": "markdown",
   "metadata": {},
   "source": [
    "## For binary data"
   ]
  },
  {
   "cell_type": "code",
   "execution_count": 9,
   "metadata": {},
   "outputs": [],
   "source": [
    "vector1 = [1,2,3,4,5]\n",
    "vector1 = set(vector1)\n",
    "vector2 = [4,5,6,7,8]\n",
    "vector2 = set(vector2)"
   ]
  },
  {
   "cell_type": "code",
   "execution_count": 10,
   "metadata": {},
   "outputs": [
    {
     "name": "stdout",
     "output_type": "stream",
     "text": [
      "Simple matching coefficient: 0.25\n"
     ]
    }
   ],
   "source": [
    "def simple_matching_coefficient(v1, v2):\n",
    "    return len(v1.intersection(v2)) / len(v1.union(v2))\n",
    "print(\"Simple matching coefficient:\", simple_matching_coefficient(vector1, vector2))"
   ]
  },
  {
   "cell_type": "code",
   "execution_count": 11,
   "metadata": {},
   "outputs": [
    {
     "name": "stdout",
     "output_type": "stream",
     "text": [
      "Jaccard coefficient: 0.25\n"
     ]
    }
   ],
   "source": [
    "def jaccard_coeffecient(v1, v2):\n",
    "    return len(v1.intersection(v2)) / len(v1.union(v2))\n",
    "print(\"Jaccard coefficient:\", jaccard_coeffecient(vector1, vector2))"
   ]
  },
  {
   "cell_type": "markdown",
   "metadata": {},
   "source": [
    "## For Textual data"
   ]
  },
  {
   "cell_type": "code",
   "execution_count": 14,
   "metadata": {},
   "outputs": [
    {
     "name": "stdout",
     "output_type": "stream",
     "text": [
      "Jaccard similarity: 0.6666666666666666\n"
     ]
    }
   ],
   "source": [
    "vector1 = 'resin'\n",
    "vector1 = set(vector1)\n",
    "vector2 = 'resist'\n",
    "vector2 = set(vector2)\n",
    "\n",
    "def jaccard_similarity(v1, v2):\n",
    "    return len(v1.intersection(v2)) / len(v1.union(v2))\n",
    "print(\"Jaccard similarity:\", jaccard_similarity(vector1, vector2))"
   ]
  },
  {
   "cell_type": "code",
   "execution_count": 18,
   "metadata": {},
   "outputs": [
    {
     "name": "stdout",
     "output_type": "stream",
     "text": [
      "Cosine Similarity Matrix: \n",
      " [[1.         0.8660254  0.33333333]\n",
      " [0.8660254  1.         0.28867513]\n",
      " [0.33333333 0.28867513 1.        ]]\n"
     ]
    }
   ],
   "source": [
    "from sklearn.metrics.pairwise import cosine_similarity\n",
    "from sklearn.feature_extraction.text import CountVectorizer\n",
    "\n",
    "corpus = [\n",
    "    \"This is a restaurant.\",\n",
    "    \"This is another restaurant.\",\n",
    "    \"One more restaurant.\"\n",
    "]\n",
    "\n",
    "vectorizer = CountVectorizer()\n",
    "X = vectorizer.fit_transform(corpus)\n",
    "print(\"Cosine Similarity Matrix: \\n\", cosine_similarity(X, X))"
   ]
  },
  {
   "cell_type": "code",
   "execution_count": 20,
   "metadata": {},
   "outputs": [
    {
     "name": "stdout",
     "output_type": "stream",
     "text": [
      "Edit distance between 'smitten' and 'sitting' is: 3\n"
     ]
    }
   ],
   "source": [
    "def edit_distance(str1, str2):\n",
    "    m, n = len(str1), len(str2)\n",
    "    dp = [[0] * (n + 1) for _ in range(m + 1)]\n",
    "\n",
    "    for i in range(m + 1):\n",
    "        dp[i][0] = i\n",
    "    for j in range(n + 1):\n",
    "        dp[0][j] = j\n",
    "\n",
    "    for i in range(1, m + 1):\n",
    "        for j in range(1, n + 1):\n",
    "            if str1[i - 1] == str2[j - 1]:\n",
    "                dp[i][j] = dp[i - 1][j - 1]\n",
    "            else:\n",
    "                dp[i][j] = 1 + min(dp[i - 1][j],        \n",
    "                                   dp[i][j - 1],        \n",
    "                                   dp[i - 1][j - 1])   \n",
    "\n",
    "    return dp[m][n]\n",
    "\n",
    "str1 = \"smitten\"\n",
    "str2 = \"sitting\"\n",
    "distance = edit_distance(str1, str2)\n",
    "print(\"Edit distance between '{}' and '{}' is: {}\".format(str1, str2, distance))"
   ]
  },
  {
   "cell_type": "code",
   "execution_count": 22,
   "metadata": {},
   "outputs": [
    {
     "name": "stdout",
     "output_type": "stream",
     "text": [
      "Jaro distance between 'alppe' and 'apple' is: 0.8667\n"
     ]
    }
   ],
   "source": [
    "def jaro_distance(str1, str2):\n",
    "    if not (str1 or str2):\n",
    "        return 1.0\n",
    "\n",
    "    match_distance = max(len(str1), len(str2)) // 2 - 1\n",
    "    matches = 0\n",
    "    transpositions = 0\n",
    "\n",
    "    str1_matches = [False] * len(str1)\n",
    "    str2_matches = [False] * len(str2)\n",
    "\n",
    "    for i in range(len(str1)):\n",
    "        start = max(0, i - match_distance)\n",
    "        end = min(i + match_distance + 1, len(str2))\n",
    "\n",
    "        for j in range(start, end):\n",
    "            if str2_matches[j]:\n",
    "                continue\n",
    "            if str1[i] == str2[j]:\n",
    "                str1_matches[i] = str2_matches[j] = True\n",
    "                matches += 1\n",
    "                break\n",
    "\n",
    "    if matches == 0:\n",
    "        return 0.0\n",
    "    k = transpositions = 0\n",
    "    for i in range(len(str1)):\n",
    "        if not str1_matches[i]:\n",
    "            continue\n",
    "        while not str2_matches[k]:\n",
    "            k += 1\n",
    "        if str1[i] != str2[k]:\n",
    "            transpositions += 1\n",
    "        k += 1\n",
    "\n",
    "    return (matches / len(str1) + matches / len(str2) + (matches - transpositions // 2) / matches) / 3\n",
    "\n",
    "# Example usage:\n",
    "str1 = \"alppe\"\n",
    "str2 = \"apple\"\n",
    "distance = jaro_distance(str1, str2)\n",
    "print(\"Jaro distance between '{}' and '{}' is: {:.4f}\".format(str1, str2, distance))"
   ]
  },
  {
   "cell_type": "code",
   "execution_count": 16,
   "metadata": {},
   "outputs": [
    {
     "name": "stdout",
     "output_type": "stream",
     "text": [
      "N-gram distance between 'resist' and 'resin' (2-grams) is: 0.5000\n"
     ]
    }
   ],
   "source": [
    "from collections import Counter\n",
    "\n",
    "def n_gram_distance(str1, str2, n):\n",
    "    ngrams1 = [str1[i:i+n] for i in range(len(str1) - n + 1)]\n",
    "    ngrams2 = [str2[i:i+n] for i in range(len(str2) - n + 1)]\n",
    "\n",
    "    count1 = Counter(ngrams1)\n",
    "    count2 = Counter(ngrams2)\n",
    "\n",
    "    total_unique_ngrams = len(set(ngrams1).union(set(ngrams2)))\n",
    "    shared_ngrams = sum((count1 & count2).values())\n",
    "\n",
    "    n_gram_distance = 1 - (shared_ngrams / total_unique_ngrams)\n",
    "    return n_gram_distance\n",
    "\n",
    "str1 = \"resist\"\n",
    "str2 = \"resin\"\n",
    "n = 2\n",
    "distance = n_gram_distance(str1, str2, n)\n",
    "print(\"N-gram distance between '{}' and '{}' ({}-grams) is: {:.4f}\".format(str1, str2, n, distance))\n"
   ]
  },
  {
   "cell_type": "code",
   "execution_count": null,
   "metadata": {},
   "outputs": [],
   "source": []
  }
 ],
 "metadata": {
  "kernelspec": {
   "display_name": "Python 3",
   "language": "python",
   "name": "python3"
  },
  "language_info": {
   "codemirror_mode": {
    "name": "ipython",
    "version": 3
   },
   "file_extension": ".py",
   "mimetype": "text/x-python",
   "name": "python",
   "nbconvert_exporter": "python",
   "pygments_lexer": "ipython3",
   "version": "3.11.0"
  }
 },
 "nbformat": 4,
 "nbformat_minor": 2
}
