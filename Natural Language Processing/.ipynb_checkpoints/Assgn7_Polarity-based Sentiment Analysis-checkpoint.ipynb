{
 "cells": [
  {
   "cell_type": "code",
   "execution_count": 2,
   "id": "891d2517-941c-49b7-9327-7f9fa73f38a8",
   "metadata": {},
   "outputs": [
    {
     "name": "stdout",
     "output_type": "stream",
     "text": [
      "Original Sentiment Analysis:\n",
      "Sentence: The weather is beautiful today.\n"
     ]
    },
    {
     "ename": "AttributeError",
     "evalue": "'Word' object has no attribute 'sentiment'",
     "output_type": "error",
     "traceback": [
      "\u001b[1;31m---------------------------------------------------------------------------\u001b[0m",
      "\u001b[1;31mAttributeError\u001b[0m                            Traceback (most recent call last)",
      "Cell \u001b[1;32mIn[2], line 39\u001b[0m\n\u001b[0;32m     37\u001b[0m \u001b[38;5;28;01mfor\u001b[39;00m sentence \u001b[38;5;129;01min\u001b[39;00m sentences:\n\u001b[0;32m     38\u001b[0m     \u001b[38;5;28mprint\u001b[39m(\u001b[38;5;124m\"\u001b[39m\u001b[38;5;124mSentence:\u001b[39m\u001b[38;5;124m\"\u001b[39m, sentence)\n\u001b[1;32m---> 39\u001b[0m     \u001b[38;5;28mprint\u001b[39m(\u001b[38;5;124m\"\u001b[39m\u001b[38;5;124mUnigram Sentiment:\u001b[39m\u001b[38;5;124m\"\u001b[39m, unigram_sentiment(sentence))\n\u001b[0;32m     40\u001b[0m     \u001b[38;5;28mprint\u001b[39m(\u001b[38;5;124m\"\u001b[39m\u001b[38;5;124mBi-gram Sentiment:\u001b[39m\u001b[38;5;124m\"\u001b[39m, bigram_sentiment(sentence))\n\u001b[0;32m     41\u001b[0m     \u001b[38;5;28mprint\u001b[39m()\n",
      "Cell \u001b[1;32mIn[2], line 15\u001b[0m, in \u001b[0;36munigram_sentiment\u001b[1;34m(sentence)\u001b[0m\n\u001b[0;32m     13\u001b[0m \u001b[38;5;28;01mdef\u001b[39;00m \u001b[38;5;21munigram_sentiment\u001b[39m(sentence):\n\u001b[0;32m     14\u001b[0m     blob \u001b[38;5;241m=\u001b[39m TextBlob(sentence)\n\u001b[1;32m---> 15\u001b[0m     \u001b[38;5;28;01mreturn\u001b[39;00m \u001b[38;5;28msum\u001b[39m([word\u001b[38;5;241m.\u001b[39msentiment\u001b[38;5;241m.\u001b[39mpolarity \u001b[38;5;28;01mfor\u001b[39;00m word \u001b[38;5;129;01min\u001b[39;00m blob\u001b[38;5;241m.\u001b[39mwords])\n",
      "Cell \u001b[1;32mIn[2], line 15\u001b[0m, in \u001b[0;36m<listcomp>\u001b[1;34m(.0)\u001b[0m\n\u001b[0;32m     13\u001b[0m \u001b[38;5;28;01mdef\u001b[39;00m \u001b[38;5;21munigram_sentiment\u001b[39m(sentence):\n\u001b[0;32m     14\u001b[0m     blob \u001b[38;5;241m=\u001b[39m TextBlob(sentence)\n\u001b[1;32m---> 15\u001b[0m     \u001b[38;5;28;01mreturn\u001b[39;00m \u001b[38;5;28msum\u001b[39m([word\u001b[38;5;241m.\u001b[39msentiment\u001b[38;5;241m.\u001b[39mpolarity \u001b[38;5;28;01mfor\u001b[39;00m word \u001b[38;5;129;01min\u001b[39;00m blob\u001b[38;5;241m.\u001b[39mwords])\n",
      "\u001b[1;31mAttributeError\u001b[0m: 'Word' object has no attribute 'sentiment'"
     ]
    }
   ],
   "source": [
    "import nltk\n",
    "from nltk.sentiment import SentimentIntensityAnalyzer\n",
    "from nltk.tokenize import word_tokenize\n",
    "from nltk.collections import BigramAssocMeasures, BigramCollocationFinder"
   ]
  },
  {
   "cell_type": "code",
   "execution_count": null,
   "id": "15aeebd3-9ab6-47fc-84f4-6799f4aeb6c2",
   "metadata": {},
   "outputs": [],
   "source": [
    "# Example sentences\n",
    "sentences = [\n",
    "    \"The weather is beautiful today.\",\n",
    "    \"I love spending time with my family.\",\n",
    "    \"The food at that restaurant was terrible.\",\n",
    "    \"She is a kind and generous person.\",\n",
    "    \"The movie was boring and poorly made.\"\n",
    "]"
   ]
  }
 ],
 "metadata": {
  "kernelspec": {
   "display_name": "Python 3 (ipykernel)",
   "language": "python",
   "name": "python3"
  },
  "language_info": {
   "codemirror_mode": {
    "name": "ipython",
    "version": 3
   },
   "file_extension": ".py",
   "mimetype": "text/x-python",
   "name": "python",
   "nbconvert_exporter": "python",
   "pygments_lexer": "ipython3",
   "version": "3.11.5"
  }
 },
 "nbformat": 4,
 "nbformat_minor": 5
}
