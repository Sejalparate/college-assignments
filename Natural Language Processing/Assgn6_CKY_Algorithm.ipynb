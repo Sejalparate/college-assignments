{
 "cells": [
  {
   "cell_type": "code",
   "execution_count": 1,
   "metadata": {},
   "outputs": [],
   "source": [
    "import matplotlib.pyplot as plt\n",
    "import nltk"
   ]
  },
  {
   "cell_type": "code",
   "execution_count": 2,
   "metadata": {},
   "outputs": [
    {
     "name": "stderr",
     "output_type": "stream",
     "text": [
      "[nltk_data] Downloading package maxent_treebank_pos_tagger to\n",
      "[nltk_data]     C:\\Users\\sejbp\\AppData\\Roaming\\nltk_data...\n",
      "[nltk_data]   Package maxent_treebank_pos_tagger is already up-to-\n",
      "[nltk_data]       date!\n",
      "[nltk_data] Downloading package treebank to\n",
      "[nltk_data]     C:\\Users\\sejbp\\AppData\\Roaming\\nltk_data...\n",
      "[nltk_data]   Package treebank is already up-to-date!\n"
     ]
    },
    {
     "data": {
      "text/plain": [
       "True"
      ]
     },
     "execution_count": 2,
     "metadata": {},
     "output_type": "execute_result"
    }
   ],
   "source": [
    "nltk.download('maxent_treebank_pos_tagger')\n",
    "nltk.download('treebank')"
   ]
  },
  {
   "cell_type": "code",
   "execution_count": 3,
   "metadata": {},
   "outputs": [],
   "source": [
    "grammar = nltk.CFG.fromstring('''\n",
    "    S -> NP VP | NP VP PP\n",
    "    NP -> DT N | DT NN | DT JJ N\n",
    "    VP -> V NP | V PP | V ADVP\n",
    "    PP -> P NP\n",
    "    ADVP -> RB\n",
    "    DT -> 'a' | 'the'\n",
    "    N -> 'dog' | 'cat' | 'mat' | 'boy' | 'ball'\n",
    "    V -> 'chased' | 'sat' | 'played'\n",
    "    P -> 'on' | 'with'\n",
    "    RB -> 'quickly'\n",
    "''')"
   ]
  },
  {
   "cell_type": "code",
   "execution_count": 5,
   "metadata": {},
   "outputs": [
    {
     "name": "stdout",
     "output_type": "stream",
     "text": [
      "              S               \n",
      "      ________|_____           \n",
      "     |              VP        \n",
      "     |         _____|___       \n",
      "     NP       |         NP    \n",
      "  ___|___     |      ___|___   \n",
      " DT      N    V     DT      N \n",
      " |       |    |     |       |  \n",
      "the     dog chased the     cat\n",
      "\n"
     ]
    }
   ],
   "source": [
    "text1 = \"the dog chased the cat\"\n",
    "\n",
    "parser = nltk.ChartParser(grammar)\n",
    "tokens = nltk.word_tokenize(text1)  # Tokenize the input string\n",
    "trees = parser.parse(tokens)\n",
    "\n",
    "for tree in trees:\n",
    "    tree.pretty_print()\n",
    "    tree.draw()\n",
    "    #plt.show()"
   ]
  },
  {
   "cell_type": "code",
   "execution_count": 6,
   "metadata": {},
   "outputs": [
    {
     "name": "stdout",
     "output_type": "stream",
     "text": [
      "             S                     \n",
      "      _______|_______               \n",
      "     |               VP            \n",
      "     |        _______|___           \n",
      "     |       |           PP        \n",
      "     |       |    _______|___       \n",
      "     NP      |   |           NP    \n",
      "  ___|___    |   |        ___|___   \n",
      " DT      N   V   P       DT      N \n",
      " |       |   |   |       |       |  \n",
      " a      cat sat  on     the     mat\n",
      "\n"
     ]
    }
   ],
   "source": [
    "text2 = \"a cat sat on the mat\"\n",
    "\n",
    "parser = nltk.ChartParser(grammar)\n",
    "tokens = nltk.word_tokenize(text2)  # Tokenize the input string\n",
    "trees = parser.parse(tokens)\n",
    "\n",
    "for tree in trees:\n",
    "    tree.pretty_print()\n",
    "    tree.draw()\n",
    "    #plt.show()"
   ]
  },
  {
   "cell_type": "code",
   "execution_count": 7,
   "metadata": {},
   "outputs": [
    {
     "name": "stdout",
     "output_type": "stream",
     "text": [
      "              S                        \n",
      "      ________|__________               \n",
      "     |                   VP            \n",
      "     |         __________|___           \n",
      "     |        |              PP        \n",
      "     |        |      ________|___       \n",
      "     NP       |     |            NP    \n",
      "  ___|___     |     |         ___|___   \n",
      " DT      N    V     P        DT      N \n",
      " |       |    |     |        |       |  \n",
      "the     boy played with     the     cat\n",
      "\n"
     ]
    }
   ],
   "source": [
    "text3 = \"the boy played with the cat\"\n",
    "\n",
    "parser = nltk.ChartParser(grammar)\n",
    "tokens = nltk.word_tokenize(text3)  # Tokenize the input string\n",
    "trees = parser.parse(tokens)\n",
    "\n",
    "for tree in trees:\n",
    "    tree.pretty_print()\n",
    "    tree.draw()\n",
    "    #plt.show()"
   ]
  },
  {
   "cell_type": "code",
   "execution_count": 8,
   "metadata": {},
   "outputs": [
    {
     "name": "stdout",
     "output_type": "stream",
     "text": [
      "             S                 \n",
      "      _______|_______           \n",
      "     |               VP        \n",
      "     |            ___|_____     \n",
      "     NP          |        ADVP \n",
      "  ___|___        |         |    \n",
      " DT      N       V         RB  \n",
      " |       |       |         |    \n",
      " a      dog     sat     quickly\n",
      "\n"
     ]
    }
   ],
   "source": [
    "text4 = \"a dog sat quickly\"\n",
    "\n",
    "parser = nltk.ChartParser(grammar)\n",
    "tokens = nltk.word_tokenize(text4)  # Tokenize the input string\n",
    "trees = parser.parse(tokens)\n",
    "\n",
    "for tree in trees:\n",
    "    tree.pretty_print()\n",
    "    tree.draw()\n",
    "    #plt.show()"
   ]
  },
  {
   "cell_type": "code",
   "execution_count": 9,
   "metadata": {},
   "outputs": [
    {
     "name": "stdout",
     "output_type": "stream",
     "text": [
      "                    S                           \n",
      "      ______________|_________________           \n",
      "     |              VP                PP        \n",
      "     |         _____|___          ____|___       \n",
      "     NP       |         NP       |        NP    \n",
      "  ___|___     |      ___|___     |     ___|___   \n",
      " DT      N    V     DT      N    P    DT      N \n",
      " |       |    |     |       |    |    |       |  \n",
      "the     cat chased the     ball with  a      dog\n",
      "\n"
     ]
    }
   ],
   "source": [
    "text5 = \"the cat chased the ball with a dog\"\n",
    "\n",
    "parser = nltk.ChartParser(grammar)\n",
    "tokens = nltk.word_tokenize(text5)  # Tokenize the input string\n",
    "trees = parser.parse(tokens)\n",
    "\n",
    "for tree in trees:\n",
    "    tree.pretty_print()\n",
    "    tree.draw()\n",
    "    #plt.show()"
   ]
  },
  {
   "cell_type": "code",
   "execution_count": null,
   "metadata": {},
   "outputs": [],
   "source": []
  }
 ],
 "metadata": {
  "kernelspec": {
   "display_name": "Python 3 (ipykernel)",
   "language": "python",
   "name": "python3"
  },
  "language_info": {
   "codemirror_mode": {
    "name": "ipython",
    "version": 3
   },
   "file_extension": ".py",
   "mimetype": "text/x-python",
   "name": "python",
   "nbconvert_exporter": "python",
   "pygments_lexer": "ipython3",
   "version": "3.11.5"
  }
 },
 "nbformat": 4,
 "nbformat_minor": 4
}
