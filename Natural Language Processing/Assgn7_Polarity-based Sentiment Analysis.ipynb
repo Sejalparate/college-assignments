{
 "cells": [
  {
   "cell_type": "code",
   "execution_count": 8,
   "id": "891d2517-941c-49b7-9327-7f9fa73f38a8",
   "metadata": {},
   "outputs": [],
   "source": [
    "from textblob import TextBlob"
   ]
  },
  {
   "cell_type": "code",
   "execution_count": 9,
   "id": "9b3a2a22",
   "metadata": {},
   "outputs": [],
   "source": [
    "# Define some negative words\n",
    "negative_words = [\"not\", \"terrible\", \"bad\", \"awful\", \"disappointing\", \"gloomy\", \"depressing\"]"
   ]
  },
  {
   "cell_type": "code",
   "execution_count": 10,
   "id": "48b7efbc",
   "metadata": {},
   "outputs": [],
   "source": [
    "def sentiment_analysis(sentence, unigram=True, bigram=False, negative_marking=False):\n",
    " \n",
    "  blob = TextBlob(sentence)\n",
    "  sentiment = blob.sentiment\n",
    "\n",
    "  # Unigram analysis\n",
    "  if unigram:\n",
    "    if sentiment.polarity > 0:\n",
    "      return \"positive\"\n",
    "    elif sentiment.polarity < 0:\n",
    "      return \"negative\"\n",
    "    else:\n",
    "      return \"neutral\"\n",
    "\n",
    "  # Bigram analysis\n",
    "  if bigram and not unigram:\n",
    "    words = sentence.split()\n",
    "    for i in range(len(words) - 1):\n",
    "      bigram = f\"{words[i]} {words[i+1]}\"\n",
    "      if bigram in negative_words:\n",
    "        sentiment.polarity -= 0.5  # Adjust polarity for negative bigram\n",
    "    if sentiment.polarity > 0:\n",
    "      return \"positive\"\n",
    "    elif sentiment.polarity < 0:\n",
    "      return \"negative\"\n",
    "    else:\n",
    "      return \"neutral\"\n",
    "\n",
    "  # Apply negative marking\n",
    "  if negative_marking:\n",
    "    for word in negative_words:\n",
    "      if word in sentence.lower():\n",
    "        sentiment.polarity -= 0.2  # Adjust polarity for negative word\n",
    "    if sentiment.polarity > 0:\n",
    "      return \"positive\"\n",
    "    elif sentiment.polarity < 0:\n",
    "      return \"negative\"\n",
    "    else:\n",
    "      return \"neutral\"\n",
    "\n",
    "  return str(sentiment)"
   ]
  },
  {
   "cell_type": "code",
   "execution_count": 11,
   "id": "b81b60f3",
   "metadata": {},
   "outputs": [],
   "source": [
    "# Example usage\n",
    "sentences = [\n",
    "  \"The movie was fantastic!\",\n",
    "  \"I waited in line for an hour, and the service was terrible.\",\n",
    "  \"This new restaurant is a hidden gem.\",\n",
    "  \"The weather today is gloomy and depressing.\",\n",
    "  \"It wasn't the best movie, but it was okay.\"\n",
    "]"
   ]
  },
  {
   "cell_type": "code",
   "execution_count": 12,
   "id": "18f96fd6",
   "metadata": {},
   "outputs": [
    {
     "name": "stdout",
     "output_type": "stream",
     "text": [
      "Sentence: The movie was fantastic!\n",
      "  Unigram: positive\n",
      "  Bigram: positive\n",
      "  Negative Marking: positive\n",
      "\n",
      "Sentence: I waited in line for an hour, and the service was terrible.\n",
      "  Unigram: negative\n",
      "  Bigram: negative\n",
      "  Negative Marking: negative\n",
      "\n",
      "Sentence: This new restaurant is a hidden gem.\n",
      "  Unigram: negative\n",
      "  Bigram: negative\n",
      "  Negative Marking: negative\n",
      "\n",
      "Sentence: The weather today is gloomy and depressing.\n",
      "  Unigram: negative\n",
      "  Bigram: negative\n",
      "  Negative Marking: negative\n",
      "\n",
      "Sentence: It wasn't the best movie, but it was okay.\n",
      "  Unigram: positive\n",
      "  Bigram: positive\n",
      "  Negative Marking: positive\n",
      "\n"
     ]
    }
   ],
   "source": [
    "for sentence in sentences:\n",
    "  print(f\"Sentence: {sentence}\")\n",
    "  print(f\"  Unigram: {sentiment_analysis(sentence)}\")\n",
    "  print(f\"  Bigram: {sentiment_analysis(sentence, unigram=False, bigram=True)}\")\n",
    "  print(f\"  Negative Marking: {sentiment_analysis(sentence, negative_marking=True)}\")\n",
    "  print(\"\")"
   ]
  },
  {
   "cell_type": "code",
   "execution_count": null,
   "id": "61e2f295",
   "metadata": {},
   "outputs": [],
   "source": []
  }
 ],
 "metadata": {
  "kernelspec": {
   "display_name": "Python 3 (ipykernel)",
   "language": "python",
   "name": "python3"
  },
  "language_info": {
   "codemirror_mode": {
    "name": "ipython",
    "version": 3
   },
   "file_extension": ".py",
   "mimetype": "text/x-python",
   "name": "python",
   "nbconvert_exporter": "python",
   "pygments_lexer": "ipython3",
   "version": "3.11.5"
  }
 },
 "nbformat": 4,
 "nbformat_minor": 5
}
